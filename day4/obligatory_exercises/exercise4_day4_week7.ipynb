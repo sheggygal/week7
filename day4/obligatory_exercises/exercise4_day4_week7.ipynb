{
  "nbformat": 4,
  "nbformat_minor": 0,
  "metadata": {
    "colab": {
      "provenance": []
    },
    "kernelspec": {
      "name": "python3",
      "display_name": "Python 3"
    },
    "language_info": {
      "name": "python"
    }
  },
  "cells": [
    {
      "cell_type": "code",
      "execution_count": 2,
      "metadata": {
        "colab": {
          "base_uri": "https://localhost:8080/"
        },
        "id": "5rmzoSNGo9lh",
        "outputId": "8393f366-714e-4551-8ad9-e8d4b23e3b3b"
      },
      "outputs": [
        {
          "output_type": "stream",
          "name": "stdout",
          "text": [
            "Collecting Faker\n",
            "  Downloading Faker-25.5.0-py3-none-any.whl (1.8 MB)\n",
            "\u001b[2K     \u001b[90m━━━━━━━━━━━━━━━━━━━━━━━━━━━━━━━━━━━━━━━━\u001b[0m \u001b[32m1.8/1.8 MB\u001b[0m \u001b[31m8.9 MB/s\u001b[0m eta \u001b[36m0:00:00\u001b[0m\n",
            "\u001b[?25hRequirement already satisfied: python-dateutil>=2.4 in /usr/local/lib/python3.10/dist-packages (from Faker) (2.8.2)\n",
            "Requirement already satisfied: six>=1.5 in /usr/local/lib/python3.10/dist-packages (from python-dateutil>=2.4->Faker) (1.16.0)\n",
            "Installing collected packages: Faker\n",
            "Successfully installed Faker-25.5.0\n"
          ]
        }
      ],
      "source": [
        "!pip install Faker\n"
      ]
    },
    {
      "cell_type": "code",
      "source": [
        "from faker import Faker\n",
        "import numpy as np\n",
        "import pandas as pd"
      ],
      "metadata": {
        "id": "lbsi3QSGpIY1"
      },
      "execution_count": 3,
      "outputs": []
    },
    {
      "cell_type": "code",
      "source": [
        "fake = Faker()"
      ],
      "metadata": {
        "id": "eDEjXEANplbR"
      },
      "execution_count": 4,
      "outputs": []
    },
    {
      "cell_type": "code",
      "source": [
        "names = [fake.name() for _ in range(100)]\n",
        "addresses = [fake.address() for _ in range(100)]\n",
        "emails = [fake.email() for _ in range(100)]"
      ],
      "metadata": {
        "id": "qX5fOrfFpo6T"
      },
      "execution_count": 5,
      "outputs": []
    },
    {
      "cell_type": "code",
      "source": [
        "ages = np.random.randint(20, 61, size=100)"
      ],
      "metadata": {
        "id": "sC3ViucApw_p"
      },
      "execution_count": 6,
      "outputs": []
    },
    {
      "cell_type": "code",
      "source": [
        "income_levels = np.random.normal(loc=50000, scale=15000, size=100)"
      ],
      "metadata": {
        "id": "rwEjgA0Up1fb"
      },
      "execution_count": 7,
      "outputs": []
    },
    {
      "cell_type": "code",
      "source": [
        "data = pd.DataFrame({\n",
        "    'Name': names,\n",
        "    'Address': addresses,\n",
        "    'Email': emails,\n",
        "    'Age': ages,\n",
        "    'Income': income_levels\n",
        "})\n"
      ],
      "metadata": {
        "id": "-dfpoJEip2rg"
      },
      "execution_count": 8,
      "outputs": []
    },
    {
      "cell_type": "code",
      "source": [
        "print(data.head(10))"
      ],
      "metadata": {
        "colab": {
          "base_uri": "https://localhost:8080/"
        },
        "id": "1YtDY8Vyp6ln",
        "outputId": "539c0f4d-7cc0-432d-fd74-cefcd73f9d17"
      },
      "execution_count": 9,
      "outputs": [
        {
          "output_type": "stream",
          "name": "stdout",
          "text": [
            "                Name                                            Address  \\\n",
            "0  Rebecca Hernandez        824 Jones Stream\\nPort Robertside, CA 39777   \n",
            "1        Sandra Hall     18472 Christina Parks\\nFigueroaville, AS 09896   \n",
            "2        Alan Haynes            14744 Rosales Lock\\nBrentview, AK 07170   \n",
            "3         Diane Carr  82326 Harrison Motorway Suite 408\\nPort Cindy,...   \n",
            "4     Tina Hernandez      00819 Jennifer Square\\nMelissaville, NE 59508   \n",
            "5         Jared Reid      76784 Mcintosh Passage\\nNorth Kayla, AL 90902   \n",
            "6      Matthew Gomez       18702 Michael Square\\nJeffreymouth, GA 06273   \n",
            "7        Emma Rogers                   PSC 0560, Box 2714\\nAPO AE 25137   \n",
            "8       Andrew Lewis    852 Jessica Circle\\nNew Angelaborough, MN 80955   \n",
            "9      Tyler Higgins             8666 Davis Cliff\\nEast Glenn, PR 35398   \n",
            "\n",
            "                          Email  Age        Income  \n",
            "0         fryandrea@example.net   45  74966.480487  \n",
            "1     christopher12@example.com   48  39594.783307  \n",
            "2      brianjohnson@example.com   51  57392.510985  \n",
            "3            hjones@example.net   44  47665.010209  \n",
            "4      jonesrichard@example.net   60  26836.735417  \n",
            "5  mckinneyveronica@example.net   53  57509.358872  \n",
            "6           tmiller@example.org   52  36211.759335  \n",
            "7      toddwilliams@example.net   49  53157.057502  \n",
            "8      jessicaleach@example.net   55  34069.527200  \n",
            "9      jennaanthony@example.org   37  62233.324780  \n"
          ]
        }
      ]
    }
  ]
}