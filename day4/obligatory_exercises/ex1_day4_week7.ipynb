{
  "nbformat": 4,
  "nbformat_minor": 0,
  "metadata": {
    "colab": {
      "provenance": []
    },
    "kernelspec": {
      "name": "python3",
      "display_name": "Python 3"
    },
    "language_info": {
      "name": "python"
    }
  },
  "cells": [
    {
      "cell_type": "markdown",
      "source": [
        "A company’s financial reports stored in an Excel file: This is an example of structured data. Financial reports typically have a predefined structure with organized data fields such as date, revenue, expenses, etc., which can be stored in a tabular format like an Excel file.\n",
        "\n",
        "Photographs uploaded to a social media platform: This is an example of unstructured data. Photographs are typically composed of pixels and do not have a predefined structure. While metadata such as date, location, and tags may accompany the photograph, the content itself (the image data) is unstructured.\n",
        "\n",
        "A collection of news articles on a website: This is an example of unstructured data. News articles are composed of text and multimedia elements and do not have a predefined structure. Each article may vary in length, content, and format, making it unstructured.\n",
        "\n",
        "Inventory data in a relational database: This is an example of structured data. Inventory data in a relational database is organized into tables with rows and columns, where each column represents a specific attribute (e.g., product name, quantity, price) and each row represents a record.\n",
        "\n",
        "Recorded interviews from a market research study: This is an example of unstructured data. Recorded interviews contain spoken language and may include non-verbal cues, making them unstructured. While transcripts or summaries of the interviews may provide some structure, the original audio or video recordings are unstructured.\n",
        "\n",
        "In summary:\n",
        "\n",
        "Structured data is data that is organized and formatted according to a predefined structure, often in tabular or relational formats.\n",
        "Unstructured data is data that does not have a predefined structure and may vary in format, making it more challenging to analyze and process automatically."
      ],
      "metadata": {
        "id": "cOKW3LaCnoqz"
      }
    }
  ]
}