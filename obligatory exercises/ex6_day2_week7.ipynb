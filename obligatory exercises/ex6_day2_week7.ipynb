{
  "nbformat": 4,
  "nbformat_minor": 0,
  "metadata": {
    "colab": {
      "provenance": []
    },
    "kernelspec": {
      "name": "python3",
      "display_name": "Python 3"
    },
    "language_info": {
      "name": "python"
    }
  },
  "cells": [
    {
      "cell_type": "code",
      "execution_count": 4,
      "metadata": {
        "id": "XrAcalcpjFGK"
      },
      "outputs": [],
      "source": [
        "import pandas as pd"
      ]
    },
    {
      "cell_type": "code",
      "source": [
        "df = pd.read_csv('/content/sample_data/sleep.csv')"
      ],
      "metadata": {
        "id": "NSR1jkOBlATp"
      },
      "execution_count": 9,
      "outputs": []
    },
    {
      "cell_type": "code",
      "source": [
        "print(\"Column Names:\")\n",
        "print(df.columns)\n",
        "print(\"\\nData Types:\")\n",
        "print(df.dtypes)\n",
        "print(\"\\nFirst Few Rows:\")\n",
        "print(df.head())"
      ],
      "metadata": {
        "colab": {
          "base_uri": "https://localhost:8080/"
        },
        "id": "wabVNI_XlLFu",
        "outputId": "9441cc7b-eee0-4af9-f995-599701418eb7"
      },
      "execution_count": 10,
      "outputs": [
        {
          "output_type": "stream",
          "name": "stdout",
          "text": [
            "Column Names:\n",
            "Index(['index', 'Year', 'Period', 'Avg hrs per day sleeping', 'Standard Error',\n",
            "       'Type of Days', 'Age Group', 'Activity', 'Sex'],\n",
            "      dtype='object')\n",
            "\n",
            "Data Types:\n",
            "index                         int64\n",
            "Year                          int64\n",
            "Period                       object\n",
            "Avg hrs per day sleeping    float64\n",
            "Standard Error              float64\n",
            "Type of Days                 object\n",
            "Age Group                    object\n",
            "Activity                     object\n",
            "Sex                          object\n",
            "dtype: object\n",
            "\n",
            "First Few Rows:\n",
            "   index  Year  Period  Avg hrs per day sleeping  Standard Error Type of Days  \\\n",
            "0      0  2003  Annual                      8.57           0.018     All days   \n",
            "1      1  2004  Annual                      8.55           0.026     All days   \n",
            "2      2  2005  Annual                      8.62           0.023     All days   \n",
            "3      3  2006  Annual                      8.63           0.024     All days   \n",
            "4      4  2007  Annual                      8.57           0.024     All days   \n",
            "\n",
            "           Age Group  Activity   Sex  \n",
            "0  15 years and over  Sleeping  Both  \n",
            "1  15 years and over  Sleeping  Both  \n",
            "2  15 years and over  Sleeping  Both  \n",
            "3  15 years and over  Sleeping  Both  \n",
            "4  15 years and over  Sleeping  Both  \n"
          ]
        }
      ]
    },
    {
      "cell_type": "markdown",
      "source": [
        "Columns of Interest:\n",
        "\n",
        "Year: This column can be used for trend analysis to track changes in sleep patterns over different years.\n",
        "Avg hrs per day sleeping: This column provides quantitative data on the average hours of sleep per day, which is essential for both trend analysis and group comparison.\n",
        "Age Group: This column categorizes individuals into different age groups, which can be used for group comparison to analyze variations in sleep patterns across different age demographics.\n",
        "Activity: This column indicates the activity being performed (in this case, sleeping), which could be used to filter or segment the data for specific analyses.\n",
        "Sex: This column categorizes individuals by gender, allowing for group comparison based on sex to investigate potential differences in sleep patterns between males and females.\n",
        "Explanation:\n",
        "\n",
        "Year: The year column is crucial for trend analysis as it allows us to examine how sleep patterns have changed over time.\n",
        "Avg hrs per day sleeping: This column contains quantitative data on sleep duration, making it essential for understanding sleep habits and trends.\n",
        "Age Group: Sleep patterns can vary significantly across different age groups due to factors such as physiological changes, lifestyle differences, and sleep needs. Analyzing sleep data by age group can provide insights into age-related trends.\n",
        "Activity: Since the dataset specifically focuses on sleep, this column helps to filter out other activities and focus solely on sleep-related data.\n",
        "Sex: Gender differences in sleep patterns have been widely documented, with studies suggesting that males and females may have different sleep durations and quality. Analyzing sleep data by sex can help identify any gender-specific trends or disparities in sleep habits.\n",
        "With these columns of interest, we can perform various analyses such as trend analysis to track changes in sleep patterns over time, group comparison to compare sleep habits across different age groups and genders, and further investigate factors influencing sleep duration and quality among Americans."
      ],
      "metadata": {
        "id": "qw9LKBm4l3B2"
      }
    }
  ]
}