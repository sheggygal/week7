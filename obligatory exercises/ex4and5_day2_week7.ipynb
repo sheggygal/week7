{
  "nbformat": 4,
  "nbformat_minor": 0,
  "metadata": {
    "colab": {
      "provenance": []
    },
    "kernelspec": {
      "name": "python3",
      "display_name": "Python 3"
    },
    "language_info": {
      "name": "python"
    }
  },
  "cells": [
    {
      "cell_type": "code",
      "source": [
        "!pip install kaggle\n"
      ],
      "metadata": {
        "colab": {
          "base_uri": "https://localhost:8080/"
        },
        "id": "Xq9cgmcJZDgM",
        "outputId": "84ff9dce-d4d4-47e4-cf5b-f04b6ed44709"
      },
      "execution_count": null,
      "outputs": [
        {
          "output_type": "stream",
          "name": "stdout",
          "text": [
            "Requirement already satisfied: kaggle in /usr/local/lib/python3.10/dist-packages (1.6.14)\n",
            "Requirement already satisfied: six>=1.10 in /usr/local/lib/python3.10/dist-packages (from kaggle) (1.16.0)\n",
            "Requirement already satisfied: certifi>=2023.7.22 in /usr/local/lib/python3.10/dist-packages (from kaggle) (2024.6.2)\n",
            "Requirement already satisfied: python-dateutil in /usr/local/lib/python3.10/dist-packages (from kaggle) (2.8.2)\n",
            "Requirement already satisfied: requests in /usr/local/lib/python3.10/dist-packages (from kaggle) (2.31.0)\n",
            "Requirement already satisfied: tqdm in /usr/local/lib/python3.10/dist-packages (from kaggle) (4.66.4)\n",
            "Requirement already satisfied: python-slugify in /usr/local/lib/python3.10/dist-packages (from kaggle) (8.0.4)\n",
            "Requirement already satisfied: urllib3 in /usr/local/lib/python3.10/dist-packages (from kaggle) (2.0.7)\n",
            "Requirement already satisfied: bleach in /usr/local/lib/python3.10/dist-packages (from kaggle) (6.1.0)\n",
            "Requirement already satisfied: webencodings in /usr/local/lib/python3.10/dist-packages (from bleach->kaggle) (0.5.1)\n",
            "Requirement already satisfied: text-unidecode>=1.3 in /usr/local/lib/python3.10/dist-packages (from python-slugify->kaggle) (1.3)\n",
            "Requirement already satisfied: charset-normalizer<4,>=2 in /usr/local/lib/python3.10/dist-packages (from requests->kaggle) (3.3.2)\n",
            "Requirement already satisfied: idna<4,>=2.5 in /usr/local/lib/python3.10/dist-packages (from requests->kaggle) (3.7)\n"
          ]
        }
      ]
    },
    {
      "cell_type": "code",
      "source": [
        "!kaggle datasets download -d uciml/iris\n"
      ],
      "metadata": {
        "colab": {
          "base_uri": "https://localhost:8080/"
        },
        "id": "CrNu52aZaNyq",
        "outputId": "070317a7-ea6d-457e-b92b-04a509db01d9"
      },
      "execution_count": null,
      "outputs": [
        {
          "output_type": "stream",
          "name": "stdout",
          "text": [
            "Dataset URL: https://www.kaggle.com/datasets/uciml/iris\n",
            "License(s): CC0-1.0\n",
            "Downloading iris.zip to /content\n",
            "  0% 0.00/3.60k [00:00<?, ?B/s]\n",
            "100% 3.60k/3.60k [00:00<00:00, 7.05MB/s]\n"
          ]
        }
      ]
    },
    {
      "cell_type": "code",
      "source": [
        "import zipfile\n"
      ],
      "metadata": {
        "id": "z8NzOSfMadea"
      },
      "execution_count": null,
      "outputs": []
    },
    {
      "cell_type": "code",
      "source": [
        "with zipfile.ZipFile(\"iris.zip\", \"r\") as zip_ref:\n",
        "    zip_ref.extractall(\"iris_dataset\")\n"
      ],
      "metadata": {
        "id": "8_DFsPwzap-Z"
      },
      "execution_count": null,
      "outputs": []
    },
    {
      "cell_type": "code",
      "source": [
        "import pandas as pd"
      ],
      "metadata": {
        "id": "99YKjpSybBqO"
      },
      "execution_count": null,
      "outputs": []
    },
    {
      "cell_type": "code",
      "source": [
        "df = pd.read_csv(\"iris_dataset/Iris.csv\")"
      ],
      "metadata": {
        "id": "g6bjScRudWOv"
      },
      "execution_count": null,
      "outputs": []
    },
    {
      "cell_type": "code",
      "source": [
        "print(\"First few rows of the dataset:\")\n",
        "print(df.head())"
      ],
      "metadata": {
        "colab": {
          "base_uri": "https://localhost:8080/"
        },
        "id": "qlduZ7EGdYZG",
        "outputId": "aa864c0d-db59-49c2-e020-3170fdcac85f"
      },
      "execution_count": null,
      "outputs": [
        {
          "output_type": "stream",
          "name": "stdout",
          "text": [
            "First few rows of the dataset:\n",
            "   Id  SepalLengthCm  SepalWidthCm  PetalLengthCm  PetalWidthCm      Species\n",
            "0   1            5.1           3.5            1.4           0.2  Iris-setosa\n",
            "1   2            4.9           3.0            1.4           0.2  Iris-setosa\n",
            "2   3            4.7           3.2            1.3           0.2  Iris-setosa\n",
            "3   4            4.6           3.1            1.5           0.2  Iris-setosa\n",
            "4   5            5.0           3.6            1.4           0.2  Iris-setosa\n"
          ]
        }
      ]
    },
    {
      "cell_type": "markdown",
      "source": [
        "qualitative - Species\n",
        "quantitative - SepalLengthCm, SepalWidthCm, PetalLengthCm, PetalWidthCm"
      ],
      "metadata": {
        "id": "pWGRppvJdlat"
      }
    },
    {
      "cell_type": "markdown",
      "source": [
        "Species: Qualitative - Represents the species of iris flower. It is categorical and used for classification purposes.\n",
        "SepalLengthCm: Quantitative - Represents the length of the sepal in centimeters. It is a numerical value that can be measured.,\n",
        "SepalWidthCm: Quantitative - Represents the width of the sepal in centimeters. It is a numerical value that can be measured.,\n",
        "PetalLengthCm: Quantitative - Represents the length of the petal in centimeters. It is a numerical value that can be measured.,\n",
        "PetalWidthCm: Quantitative - Represents the width of the petal in centimeters. It is a numerical value that can be measured."
      ],
      "metadata": {
        "id": "IwNTwjQqdz0S"
      }
    },
    {
      "cell_type": "code",
      "source": [
        "qualitative_columns = ['Species']\n",
        "quantitative_columns = ['SepalLengthCm', 'SepalWidthCm', 'PetalLengthCm', 'PetalWidthCm']"
      ],
      "metadata": {
        "id": "C8I6EtuvdgJq"
      },
      "execution_count": null,
      "outputs": []
    },
    {
      "cell_type": "code",
      "source": [
        "column_descriptions = {\n",
        "    'Species': \"Qualitative - Represents the species of iris flower. It is categorical and used for classification purposes.\",\n",
        "    'SepalLengthCm': \"Quantitative - Represents the length of the sepal in centimeters. It is a numerical value that can be measured.\",\n",
        "    'SepalWidthCm': \"Quantitative - Represents the width of the sepal in centimeters. It is a numerical value that can be measured.\",\n",
        "    'PetalLengthCm': \"Quantitative - Represents the length of the petal in centimeters. It is a numerical value that can be measured.\",\n",
        "    'PetalWidthCm': \"Quantitative - Represents the width of the petal in centimeters. It is a numerical value that can be measured.\"\n",
        "}"
      ],
      "metadata": {
        "id": "MPdHQUvzev5L"
      },
      "execution_count": null,
      "outputs": []
    },
    {
      "cell_type": "code",
      "source": [
        "print(\"\\nColumn Classification and Description:\")\n",
        "for column in df.columns:\n",
        "    if column in qualitative_columns:\n",
        "        print(f\"{column}: {column_descriptions[column]} (Qualitative)\")\n",
        "    elif column in quantitative_columns:\n",
        "        print(f\"{column}: {column_descriptions[column]} (Quantitative)\")"
      ],
      "metadata": {
        "colab": {
          "base_uri": "https://localhost:8080/"
        },
        "id": "770CPOSce19C",
        "outputId": "09154b70-4829-4134-ce0b-39008a24ca25"
      },
      "execution_count": null,
      "outputs": [
        {
          "output_type": "stream",
          "name": "stdout",
          "text": [
            "\n",
            "Column Classification and Description:\n",
            "SepalLengthCm: Quantitative - Represents the length of the sepal in centimeters. It is a numerical value that can be measured. (Quantitative)\n",
            "SepalWidthCm: Quantitative - Represents the width of the sepal in centimeters. It is a numerical value that can be measured. (Quantitative)\n",
            "PetalLengthCm: Quantitative - Represents the length of the petal in centimeters. It is a numerical value that can be measured. (Quantitative)\n",
            "PetalWidthCm: Quantitative - Represents the width of the petal in centimeters. It is a numerical value that can be measured. (Quantitative)\n",
            "Species: Qualitative - Represents the species of iris flower. It is categorical and used for classification purposes. (Qualitative)\n"
          ]
        }
      ]
    },
    {
      "cell_type": "code",
      "source": [
        "mean_sepal_length = df['SepalLengthCm'].mean()\n",
        "median_sepal_length = df['SepalLengthCm'].median()\n",
        "mode_sepal_length = df['SepalLengthCm'].mode().values[0]\n",
        "\n",
        "print(f\"Mean Sepal Length: {mean_sepal_length}\")\n",
        "print(f\"Median Sepal Length: {median_sepal_length}\")\n",
        "print(f\"Mode Sepal Length: {mode_sepal_length}\")"
      ],
      "metadata": {
        "colab": {
          "base_uri": "https://localhost:8080/"
        },
        "id": "0V1GMULgfnJJ",
        "outputId": "4183e348-f8a2-4d66-e58a-50c45ad9e6b1"
      },
      "execution_count": 18,
      "outputs": [
        {
          "output_type": "stream",
          "name": "stdout",
          "text": [
            "Mean Sepal Length: 5.843333333333334\n",
            "Median Sepal Length: 5.8\n",
            "Mode Sepal Length: 5.0\n"
          ]
        }
      ]
    },
    {
      "cell_type": "code",
      "source": [
        "import matplotlib.pyplot as plt"
      ],
      "metadata": {
        "id": "0OAJiZ4Wf6lp"
      },
      "execution_count": 20,
      "outputs": []
    },
    {
      "cell_type": "code",
      "source": [
        "plt.figure(figsize=(8, 6))\n",
        "plt.hist(df['SepalLengthCm'], bins=20, color='skyblue', edgecolor='black')\n",
        "plt.title('Distribution of Sepal Length')\n",
        "plt.xlabel('Sepal Length (cm)')\n",
        "plt.ylabel('Frequency')\n",
        "plt.grid(True)\n",
        "plt.show()"
      ],
      "metadata": {
        "colab": {
          "base_uri": "https://localhost:8080/",
          "height": 564
        },
        "id": "D-UZFrk2fx1y",
        "outputId": "1630765d-efbc-4fbf-e82a-89152f2ddc32"
      },
      "execution_count": 21,
      "outputs": [
        {
          "output_type": "display_data",
          "data": {
            "text/plain": [
              "<Figure size 800x600 with 1 Axes>"
            ],
            "image/png": "[encoded data removed]"
          },
          "metadata": {}
        }
      ]
    },
    {
      "cell_type": "markdown",
      "source": [
        "From the histogram visualization of the distribution of sepal lengths in the Iris dataset, we can observe the following:\n",
        "\n",
        "Shape of the Distribution: The distribution of sepal lengths appears to be approximately normal (bell-shaped) with a slight skewness towards the longer sepal lengths. This suggests that the majority of the iris flowers in the dataset have sepal lengths clustered around a central value, with fewer flowers having significantly shorter or longer sepal lengths.\n",
        "\n",
        "Central Tendency: The histogram is centered around a specific value, indicating the central tendency of the distribution. This corresponds to the mean, median, and mode of the sepal lengths, which are calculated as summary statistics.\n",
        "\n",
        "Range of Values: The histogram provides insight into the range of sepal lengths present in the dataset. We can observe the minimum and maximum values of sepal lengths and assess the spread or variability of the data.\n",
        "\n",
        "Frequency Distribution: The height of each bar in the histogram represents the frequency or count of iris flowers falling within a specific range of sepal lengths. This allows us to visualize the relative abundance of different sepal length intervals in the dataset.\n",
        "\n",
        "Overall, the distribution of sepal lengths in the Iris dataset appears to be relatively symmetrical and unimodal, with a majority of flowers clustered around a central value. This information provides valuable insights into the morphological characteristics of iris flowers and can aid in species classification and botanical studies."
      ],
      "metadata": {
        "id": "MoH3dqGjgo_9"
      }
    }
  ]
}