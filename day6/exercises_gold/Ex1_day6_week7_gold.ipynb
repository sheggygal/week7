{
  "nbformat": 4,
  "nbformat_minor": 0,
  "metadata": {
    "colab": {
      "provenance": []
    },
    "kernelspec": {
      "name": "python3",
      "display_name": "Python 3"
    },
    "language_info": {
      "name": "python"
    }
  },
  "cells": [
    {
      "cell_type": "code",
      "execution_count": 1,
      "metadata": {
        "id": "Y0LSu3dt39cj"
      },
      "outputs": [],
      "source": [
        "import pandas as pd"
      ]
    },
    {
      "cell_type": "code",
      "source": [
        "data = {\n",
        "    'UserID': range(1, 11),\n",
        "    'Name': ['Alice', 'Bob', 'Charlie', 'David', 'Emma',\n",
        "             'Frank', 'Grace', 'Hannah', 'Ian', 'Jane'],\n",
        "    'Age': [25, 30, 35, 40, 29, 34, 28, 31, 36, 33],\n",
        "    'City': ['New York', 'Los Angeles', 'Chicago', 'Houston', 'Phoenix',\n",
        "             'Philadelphia', 'San Antonio', 'San Diego', 'Dallas', 'San Jose']\n",
        "}"
      ],
      "metadata": {
        "id": "QFaTOqov4PBW"
      },
      "execution_count": 2,
      "outputs": []
    },
    {
      "cell_type": "code",
      "source": [
        "df = pd.DataFrame(data)"
      ],
      "metadata": {
        "id": "nR7ud8ej4SMs"
      },
      "execution_count": 3,
      "outputs": []
    },
    {
      "cell_type": "code",
      "source": [
        "json_orientations = ['records', 'index', 'columns', 'values']"
      ],
      "metadata": {
        "id": "htBqRFqz4crB"
      },
      "execution_count": 4,
      "outputs": []
    },
    {
      "cell_type": "code",
      "source": [
        "for orientation in json_orientations:\n",
        "    json_file = f\"data_{orientation}.json\"\n",
        "    df.to_json(json_file, orient=orientation)"
      ],
      "metadata": {
        "id": "ZXtUjHsf4dyb"
      },
      "execution_count": 5,
      "outputs": []
    }
  ]
}