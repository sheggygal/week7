{
  "nbformat": 4,
  "nbformat_minor": 0,
  "metadata": {
    "colab": {
      "provenance": []
    },
    "kernelspec": {
      "name": "python3",
      "display_name": "Python 3"
    },
    "language_info": {
      "name": "python"
    }
  },
  "cells": [
    {
      "cell_type": "code",
      "execution_count": 26,
      "metadata": {
        "id": "pxr_MCmD9W8g"
      },
      "outputs": [],
      "source": [
        "import pandas as pd"
      ]
    },
    {
      "cell_type": "code",
      "source": [
        "from google.colab import drive\n",
        "drive.mount('/content/drive')"
      ],
      "metadata": {
        "colab": {
          "base_uri": "https://localhost:8080/"
        },
        "id": "VCIkZv6wJzG1",
        "outputId": "39ddab06-d530-49af-ec1f-88a216f1b341"
      },
      "execution_count": 18,
      "outputs": [
        {
          "output_type": "stream",
          "name": "stdout",
          "text": [
            "Drive already mounted at /content/drive; to attempt to forcibly remount, call drive.mount(\"/content/drive\", force_remount=True).\n"
          ]
        }
      ]
    },
    {
      "cell_type": "code",
      "source": [
        "input_csv = '/content/drive/MyDrive/train.csv'"
      ],
      "metadata": {
        "id": "-oUu65P1APSN"
      },
      "execution_count": 20,
      "outputs": []
    },
    {
      "cell_type": "code",
      "source": [
        "output_csv = 'output_chunk.csv'"
      ],
      "metadata": {
        "id": "08xCEFHGAdwt"
      },
      "execution_count": 21,
      "outputs": []
    },
    {
      "cell_type": "code",
      "source": [
        "chunksize = 5000"
      ],
      "metadata": {
        "id": "gzt33XqEAiCp"
      },
      "execution_count": 22,
      "outputs": []
    },
    {
      "cell_type": "code",
      "source": [
        "with open(output_csv, 'w') as f:\n",
        "    f.write('Chunk_Number,Avg_of_Column\\n')"
      ],
      "metadata": {
        "id": "DLLxXRZpAld3"
      },
      "execution_count": 23,
      "outputs": []
    },
    {
      "cell_type": "code",
      "source": [
        "chunk_number = 0\n",
        "for chunk in pd.read_csv(input_csv, chunksize=chunksize):\n",
        "    filtered_chunk = chunk[chunk['content_type_id'] == 1]\n",
        "\n",
        "    with open(output_csv, 'a') as f:\n",
        "        filtered_chunk.to_csv(f, header=False, index=False, columns=['content_type_id'])\n",
        "\n",
        "    chunk_number += 1\n",
        "\n"
      ],
      "metadata": {
        "id": "YM61vwmOLv5g"
      },
      "execution_count": 29,
      "outputs": []
    },
    {
      "cell_type": "code",
      "source": [
        "print(\"Operation completed. Filtered results saved in:\", output_csv)"
      ],
      "metadata": {
        "id": "J2TwHVevRv5U",
        "outputId": "66971729-4d94-412d-9282-3b72d8eafb95",
        "colab": {
          "base_uri": "https://localhost:8080/"
        }
      },
      "execution_count": 30,
      "outputs": [
        {
          "output_type": "stream",
          "name": "stdout",
          "text": [
            "Operation completed. Filtered results saved in: output_chunk.csv\n"
          ]
        }
      ]
    }
  ]
}