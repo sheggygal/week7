{
  "nbformat": 4,
  "nbformat_minor": 0,
  "metadata": {
    "colab": {
      "provenance": []
    },
    "kernelspec": {
      "name": "python3",
      "display_name": "Python 3"
    },
    "language_info": {
      "name": "python"
    }
  },
  "cells": [
    {
      "cell_type": "code",
      "execution_count": 1,
      "metadata": {
        "colab": {
          "base_uri": "https://localhost:8080/"
        },
        "id": "PSMipANN41gh",
        "outputId": "f7c99acc-5ffd-4cbf-9e1c-6aaab2d9480c"
      },
      "outputs": [
        {
          "output_type": "stream",
          "name": "stdout",
          "text": [
            "Requirement already satisfied: openpyxl in /usr/local/lib/python3.10/dist-packages (3.1.3)\n",
            "Requirement already satisfied: et-xmlfile in /usr/local/lib/python3.10/dist-packages (from openpyxl) (1.1.0)\n"
          ]
        }
      ],
      "source": [
        "!pip install openpyxl"
      ]
    },
    {
      "cell_type": "code",
      "source": [
        "import pandas as pd"
      ],
      "metadata": {
        "id": "sKXLFmp45f5r"
      },
      "execution_count": 2,
      "outputs": []
    },
    {
      "cell_type": "code",
      "source": [
        "import openpyxl"
      ],
      "metadata": {
        "id": "AAwKx-Su7vgH"
      },
      "execution_count": 18,
      "outputs": []
    },
    {
      "cell_type": "code",
      "source": [
        "from openpyxl import Workbook"
      ],
      "metadata": {
        "id": "KdUWk5ve5iUn"
      },
      "execution_count": 3,
      "outputs": []
    },
    {
      "cell_type": "code",
      "source": [
        "from openpyxl.styles import Font, Alignment, NamedStyle"
      ],
      "metadata": {
        "id": "1RG3k86q5n3o"
      },
      "execution_count": 4,
      "outputs": []
    },
    {
      "cell_type": "code",
      "source": [
        "from openpyxl.utils.dataframe import dataframe_to_rows"
      ],
      "metadata": {
        "id": "azYYqx8w6hHc"
      },
      "execution_count": 9,
      "outputs": []
    },
    {
      "cell_type": "code",
      "source": [
        "data = pd.DataFrame({\n",
        "    'Date': pd.date_range('20210101', periods=20),\n",
        "    'Product': ['Product A', 'Product B', 'Product C'] * 6 + ['Product A', 'Product B'],\n",
        "    'Quantity': [2, 3, 5, 7, 1] * 4,\n",
        "    'Revenue': [210.50, 340.60, 450.30, 120.10, 150.75] * 4\n",
        "})"
      ],
      "metadata": {
        "id": "9Nlj5Q3r5qxS"
      },
      "execution_count": 5,
      "outputs": []
    },
    {
      "cell_type": "code",
      "source": [
        "wb = Workbook()\n",
        "ws = wb.active\n",
        "ws.title = \"Sales Data\""
      ],
      "metadata": {
        "id": "gcGN3ihZ5vQ4"
      },
      "execution_count": 6,
      "outputs": []
    },
    {
      "cell_type": "code",
      "source": [
        "for r in dataframe_to_rows(data, index=False, header=True):\n",
        "    ws.append(r)"
      ],
      "metadata": {
        "id": "yHGHfT3951ry"
      },
      "execution_count": 10,
      "outputs": []
    },
    {
      "cell_type": "code",
      "source": [
        "for col in ['C', 'D']:\n",
        "    for cell in ws[col]:\n",
        "        cell.number_format = '#,##0.00'"
      ],
      "metadata": {
        "id": "SQFOtSpE6u2h"
      },
      "execution_count": 11,
      "outputs": []
    },
    {
      "cell_type": "code",
      "source": [
        "header_style = NamedStyle(name=\"header_style\")\n",
        "header_style.font = Font(bold=True)\n",
        "header_style.alignment = Alignment(horizontal=\"center\", vertical=\"center\")"
      ],
      "metadata": {
        "id": "d_xutZLW6wN8"
      },
      "execution_count": 12,
      "outputs": []
    },
    {
      "cell_type": "code",
      "source": [
        "for cell in ws[1]:\n",
        "    cell.style = header_style"
      ],
      "metadata": {
        "id": "gJNAtwif60wa"
      },
      "execution_count": 13,
      "outputs": []
    },
    {
      "cell_type": "code",
      "source": [
        "for column in ws.columns:\n",
        "    max_length = 0\n",
        "    for cell in column:\n",
        "        try:\n",
        "            if len(str(cell.value)) > max_length:\n",
        "                max_length = len(str(cell.value))\n",
        "        except:\n",
        "            pass\n",
        "    adjusted_width = (max_length + 2) * 1.2\n",
        "    ws.column_dimensions[column[0].column_letter].width = adjusted_width"
      ],
      "metadata": {
        "id": "OMjRFWzZ65wj"
      },
      "execution_count": 23,
      "outputs": []
    },
    {
      "cell_type": "code",
      "source": [
        "excel_file = \"sales_data_pandas.xlsx\""
      ],
      "metadata": {
        "id": "UdgjAylz9IDj"
      },
      "execution_count": 24,
      "outputs": []
    },
    {
      "cell_type": "code",
      "source": [
        "wb.save(excel_file)"
      ],
      "metadata": {
        "id": "pe0z7eAa9JbH"
      },
      "execution_count": 25,
      "outputs": []
    }
  ]
}