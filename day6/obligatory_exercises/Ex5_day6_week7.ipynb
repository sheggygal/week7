{
  "nbformat": 4,
  "nbformat_minor": 0,
  "metadata": {
    "colab": {
      "provenance": []
    },
    "kernelspec": {
      "name": "python3",
      "display_name": "Python 3"
    },
    "language_info": {
      "name": "python"
    }
  },
  "cells": [
    {
      "cell_type": "code",
      "execution_count": 1,
      "metadata": {
        "id": "l9xDP1CM2cTr"
      },
      "outputs": [],
      "source": [
        "import pandas as pd"
      ]
    },
    {
      "cell_type": "code",
      "source": [
        "data = {\n",
        "    'Name': ['John', 'Alice', 'Bob'],\n",
        "    'Age': [30, 25, 35],\n",
        "    'City': ['New York', 'Los Angeles', 'Chicago']\n",
        "}"
      ],
      "metadata": {
        "id": "QJJTaN-e3AFx"
      },
      "execution_count": 2,
      "outputs": []
    },
    {
      "cell_type": "code",
      "source": [
        "df = pd.DataFrame(data)"
      ],
      "metadata": {
        "id": "_uc1r4DL3D2Q"
      },
      "execution_count": 3,
      "outputs": []
    },
    {
      "cell_type": "code",
      "source": [
        "excel_file = \"data.xlsx\""
      ],
      "metadata": {
        "id": "LG0da61u3J0Q"
      },
      "execution_count": 4,
      "outputs": []
    },
    {
      "cell_type": "code",
      "source": [
        "df.to_excel(excel_file, index=False)"
      ],
      "metadata": {
        "id": "RVGIKzUL3K8K"
      },
      "execution_count": 5,
      "outputs": []
    },
    {
      "cell_type": "code",
      "source": [
        "json_file = \"data.json\""
      ],
      "metadata": {
        "id": "015Uz7jI3VDr"
      },
      "execution_count": 7,
      "outputs": []
    },
    {
      "cell_type": "code",
      "source": [
        "df.to_json(json_file, orient='records')"
      ],
      "metadata": {
        "id": "FTKwOkjx3cKM"
      },
      "execution_count": 8,
      "outputs": []
    }
  ]
}